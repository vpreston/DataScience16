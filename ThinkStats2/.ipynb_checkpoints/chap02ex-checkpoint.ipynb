{
 "cells": [
  {
   "cell_type": "markdown",
   "metadata": {},
   "source": [
    "Exercise from Think Stats, 2nd Edition (thinkstats2.com)<br>\n",
    "Allen Downey\n",
    "\n",
    "Read the female respondent file and display the variables names."
   ]
  },
  {
   "cell_type": "code",
   "execution_count": 115,
   "metadata": {
    "collapsed": false
   },
   "outputs": [
    {
     "data": {
      "text/plain": [
       "Index([u'caseid', u'rscrinf', u'rdormres', u'rostscrn', u'rscreenhisp',\n",
       "       u'rscreenrace', u'age_a', u'age_r', u'cmbirth', u'agescrn',\n",
       "       ...\n",
       "       u'pubassis_i', u'basewgt', u'adj_mod_basewgt', u'finalwgt', u'secu_r',\n",
       "       u'sest', u'cmintvw', u'cmlstyr', u'screentime', u'intvlngth'],\n",
       "      dtype='object', length=3087)"
      ]
     },
     "execution_count": 115,
     "metadata": {},
     "output_type": "execute_result"
    }
   ],
   "source": [
    "%matplotlib inline\n",
    "\n",
    "import chap01soln\n",
    "resp = chap01soln.ReadFemResp()\n",
    "resp.columns"
   ]
  },
  {
   "cell_type": "markdown",
   "metadata": {},
   "source": [
    "Make a histogram of <tt>totincr</tt> the total income for the respondent's family.  To interpret the codes see the [codebook](http://www.icpsr.umich.edu/nsfg6/Controller?displayPage=labelDetails&fileCode=MALE&section=R&subSec=7958&srtLabel=609776)."
   ]
  },
  {
   "cell_type": "code",
   "execution_count": 116,
   "metadata": {
    "collapsed": false
   },
   "outputs": [
    {
     "name": "stdout",
     "output_type": "stream",
     "text": [
      "<class 'thinkstats2.Hist'>\n"
     ]
    }
   ],
   "source": [
    "import thinkstats2\n",
    "hist = thinkstats2.Hist(resp.totincr)\n",
    "print type(hist)"
   ]
  },
  {
   "cell_type": "markdown",
   "metadata": {},
   "source": [
    "Display the histogram."
   ]
  },
  {
   "cell_type": "code",
   "execution_count": 117,
   "metadata": {
    "collapsed": false
   },
   "outputs": [
    {
     "data": {
      "image/png": "[encoded data removed]",
      "text/plain": [
       "<matplotlib.figure.Figure at 0x7f404ec73850>"
      ]
     },
     "metadata": {},
     "output_type": "display_data"
    },
    {
     "data": {
      "text/plain": [
       "<matplotlib.figure.Figure at 0x7f404ec733d0>"
      ]
     },
     "metadata": {},
     "output_type": "display_data"
    }
   ],
   "source": [
    "import thinkplot\n",
    "thinkplot.Hist(hist, label='totincr')\n",
    "thinkplot.Show()"
   ]
  },
  {
   "cell_type": "markdown",
   "metadata": {},
   "source": [
    "Make a histogram of <tt>age_r</tt>, the respondent's age at the time of interview."
   ]
  },
  {
   "cell_type": "code",
   "execution_count": 118,
   "metadata": {
    "collapsed": false
   },
   "outputs": [
    {
     "data": {
      "image/png": "[encoded data removed]",
      "text/plain": [
       "<matplotlib.figure.Figure at 0x7f404ec71190>"
      ]
     },
     "metadata": {},
     "output_type": "display_data"
    },
    {
     "data": {
      "text/plain": [
       "<matplotlib.figure.Figure at 0x7f404ec71410>"
      ]
     },
     "metadata": {},
     "output_type": "display_data"
    }
   ],
   "source": [
    "hist = thinkstats2.Hist(resp.age_r)\n",
    "thinkplot.Hist(hist, label='age_r')\n",
    "thinkplot.Show()"
   ]
  },
  {
   "cell_type": "markdown",
   "metadata": {},
   "source": [
    "Make a histogram of <tt>numfmhh</tt>, the number of people in the respondent's household."
   ]
  },
  {
   "cell_type": "code",
   "execution_count": 119,
   "metadata": {
    "collapsed": false
   },
   "outputs": [
    {
     "data": {
      "image/png": "[encoded data removed]",
      "text/plain": [
       "<matplotlib.figure.Figure at 0x7f404fe6dbd0>"
      ]
     },
     "metadata": {},
     "output_type": "display_data"
    },
    {
     "data": {
      "text/plain": [
       "<matplotlib.figure.Figure at 0x7f404fe6dd90>"
      ]
     },
     "metadata": {},
     "output_type": "display_data"
    }
   ],
   "source": [
    "hist= thinkstats2.Hist(resp.numfmhh)\n",
    "thinkplot.Hist(hist, label='numfmhh')\n",
    "thinkplot.Show(xlabel='Number in Household', ylabel='Frequency')"
   ]
  },
  {
   "cell_type": "markdown",
   "metadata": {},
   "source": [
    "Make a histogram of <tt>parity</tt>, the number children the respondent has borne.  How would you describe this distribution?"
   ]
  },
  {
   "cell_type": "code",
   "execution_count": 120,
   "metadata": {
    "collapsed": false
   },
   "outputs": [
    {
     "data": {
      "image/png": "[encoded data removed]",
      "text/plain": [
       "<matplotlib.figure.Figure at 0x7f404fd2e7d0>"
      ]
     },
     "metadata": {},
     "output_type": "display_data"
    },
    {
     "data": {
      "text/plain": [
       "<matplotlib.figure.Figure at 0x7f405037a190>"
      ]
     },
     "metadata": {},
     "output_type": "display_data"
    }
   ],
   "source": [
    "hist=thinkstats2.Hist(resp.parity)\n",
    "thinkplot.Hist(hist, label='parity')\n",
    "thinkplot.Show(xlabel='Number Children Borne', ylabel='Frequency')\n",
    "#a positive-skewed disribution, potentially could even call it an \n",
    "#exponential distribution. One clear mode at 0, with a \"local maxima\" \n",
    "#at two children. "
   ]
  },
  {
   "cell_type": "markdown",
   "metadata": {},
   "source": [
    "Use Hist.Largest to find the largest values of <tt>parity</tt>."
   ]
  },
  {
   "cell_type": "code",
   "execution_count": 121,
   "metadata": {
    "collapsed": false
   },
   "outputs": [
    {
     "name": "stdout",
     "output_type": "stream",
     "text": [
      "#Borne Freq\n",
      "22      1\n",
      "16      1\n",
      "10      3\n"
     ]
    }
   ],
   "source": [
    "hist=thinkstats2.Hist(resp.parity)\n",
    "print '#Borne', 'Freq'\n",
    "for parity, freq in hist.Largest(3): #look at the potential outliers\n",
    "    print parity, '    ', freq\n",
    "\n",
    "#see that 22 is a decided outlier, as well as 16. Without doing a \n",
    "#stronger outlier analysis, hard to tell whether 10 actually fits \n",
    "#within the distribution"
   ]
  },
  {
   "cell_type": "markdown",
   "metadata": {},
   "source": [
    "Use <tt>totincr</tt> to select the respondents with the highest income.  Compute the distribution of <tt>parity</tt> for just the high income respondents."
   ]
  },
  {
   "cell_type": "code",
   "execution_count": 122,
   "metadata": {
    "collapsed": false
   },
   "outputs": [
    {
     "data": {
      "image/png": "[encoded data removed]",
      "text/plain": [
       "<matplotlib.figure.Figure at 0x7f4050559590>"
      ]
     },
     "metadata": {},
     "output_type": "display_data"
    },
    {
     "data": {
      "image/png": "[encoded data removed]",
      "text/plain": [
       "<matplotlib.figure.Figure at 0x7f404363d950>"
      ]
     },
     "metadata": {},
     "output_type": "display_data"
    },
    {
     "data": {
      "text/plain": [
       "<matplotlib.figure.Figure at 0x7f404363d2d0>"
      ]
     },
     "metadata": {},
     "output_type": "display_data"
    }
   ],
   "source": [
    "high_income = resp.parity[resp.totincr == 14] #from the codebook, implies income of over $75,000\n",
    "above_median = resp.parity[resp.totincr >= 12] #for the sake of comparison, used google to find\n",
    "\n",
    "hist = thinkstats2.Hist(high_income)\n",
    "thinkplot.Hist(hist,label='parity of highest income')\n",
    "thinkplot.Show(xlabel='Num Borne', ylabel='Frequency')\n",
    "\n",
    "hist2 = thinkstats2.Hist(above_median)\n",
    "thinkplot.Hist(hist2,label='parity for above average income')\n",
    "thinkplot.Show(xlabel='Num Borne', ylabel='Frequency')\n",
    "\n",
    "#turns out these distributions are extremely similar"
   ]
  },
  {
   "cell_type": "markdown",
   "metadata": {},
   "source": [
    "Find the largest parities for high income respondents."
   ]
  },
  {
   "cell_type": "code",
   "execution_count": 123,
   "metadata": {
    "collapsed": false
   },
   "outputs": [
    {
     "name": "stdout",
     "output_type": "stream",
     "text": [
      "#Borne Freq\n",
      "8      1\n",
      "7      1\n",
      "5      5\n",
      "----------\n",
      "8      1\n",
      "7      1\n",
      "5      11\n"
     ]
    }
   ],
   "source": [
    "#where hist is highest income and hist2 is above median income as calculated from the last problem\n",
    "print '#Borne', 'Freq'\n",
    "for parity, freq in hist.Largest(3):\n",
    "    print parity, '    ', freq\n",
    "print '----------'\n",
    "for parity, freq in hist2.Largest(3):\n",
    "    print parity, '    ', freq"
   ]
  },
  {
   "cell_type": "markdown",
   "metadata": {},
   "source": [
    "Compare the mean <tt>parity</tt> for high income respondents and others."
   ]
  },
  {
   "cell_type": "code",
   "execution_count": 124,
   "metadata": {
    "collapsed": false
   },
   "outputs": [
    {
     "name": "stdout",
     "output_type": "stream",
     "text": [
      "High Income 1.07586206897\n",
      "Low Income 1.24957581367\n",
      "Difference 0.173713744701\n",
      "-----------------------------\n",
      "Above Average 1.04547316673\n",
      "Below Average 1.30661284121\n",
      "Difference 0.26113967448\n"
     ]
    }
   ],
   "source": [
    "low_income = resp.parity[resp.totincr < 14]\n",
    "below_median = resp.parity[resp.totincr < 12]\n",
    "\n",
    "high_income_mean = high_income.mean()\n",
    "low_income_mean = low_income.mean()\n",
    "\n",
    "above_median_mean = above_median.mean()\n",
    "below_median_mean = below_median.mean()\n",
    "\n",
    "print 'High Income', high_income_mean\n",
    "print 'Low Income', low_income_mean\n",
    "print 'Difference', low_income_mean - high_income_mean\n",
    "print '-----------------------------'\n",
    "print 'Above Average', above_median_mean\n",
    "print 'Below Average', below_median_mean\n",
    "print 'Difference', below_median_mean - above_median_mean\n"
   ]
  },
  {
   "cell_type": "markdown",
   "metadata": {},
   "source": [
    "Investigate any other variables that look interesting."
   ]
  },
  {
   "cell_type": "code",
   "execution_count": 125,
   "metadata": {
    "collapsed": false
   },
   "outputs": [
    {
     "name": "stdout",
     "output_type": "stream",
     "text": [
      "MENARCHE AGE AND INCOME\n"
     ]
    },
    {
     "data": {
      "image/png": "[encoded data removed]",
      "text/plain": [
       "<matplotlib.figure.Figure at 0x7f40506c18d0>"
      ]
     },
     "metadata": {},
     "output_type": "display_data"
    },
    {
     "data": {
      "image/png": "[encoded data removed]",
      "text/plain": [
       "<matplotlib.figure.Figure at 0x7f404fd2eb10>"
      ]
     },
     "metadata": {},
     "output_type": "display_data"
    },
    {
     "name": "stdout",
     "output_type": "stream",
     "text": [
      "High Income 12.6424242424\n",
      "Low Income 12.5146398141\n",
      "Difference 0.127784428327\n",
      "     \n",
      "MENARCHE AGE AND SEXUAL PARTNERS\n"
     ]
    },
    {
     "data": {
      "image/png": "[encoded data removed]",
      "text/plain": [
       "<matplotlib.figure.Figure at 0x7f404ea872d0>"
      ]
     },
     "metadata": {},
     "output_type": "display_data"
    },
    {
     "name": "stdout",
     "output_type": "stream",
     "text": [
      "Five or More 12.4937647455\n",
      "Fewer than Five 12.5988909427\n",
      "Difference 0.105126197164\n"
     ]
    },
    {
     "data": {
      "text/plain": [
       "<matplotlib.figure.Figure at 0x7f404f346350>"
      ]
     },
     "metadata": {},
     "output_type": "display_data"
    }
   ],
   "source": [
    "#I investigate age of first menarche in relationship to household income\n",
    "#then compare first menarche with number of sexual partners\n",
    "\n",
    "def compare(main_data, filter_for_data, bound):\n",
    "    hist = thinkstats2.Hist(main_data) #get a sense of the distribution\n",
    "    \n",
    "    upper = main_data[filter_for_data >= bound]\n",
    "    lower = main_data[filter_for_data < bound]\n",
    "    \n",
    "    upper_hist = thinkstats2.Hist(upper)\n",
    "    lower_hist = thinkstats2.Hist(lower)\n",
    "    \n",
    "    upper_mean = upper.mean()\n",
    "    lower_mean = lower.mean()\n",
    "    diff = abs(upper_mean-lower_mean)\n",
    "    \n",
    "    return hist, upper_hist, lower_hist, upper_mean, lower_mean, diff\n",
    "    \n",
    "\n",
    "print 'MENARCHE AGE AND INCOME'\n",
    "valid_menarche_ages = resp.menarche[resp.menarche <= 95] #get rid of special codes\n",
    "\n",
    "hist, high_hist, other_hist, hi_mean, oi_mean, diff = compare(valid_menarche_ages, resp.totincr, 14)\n",
    "thinkplot.Hist(hist,label='Age of menarche')\n",
    "thinkplot.Show(xlabel='Year', ylabel='Frequency')\n",
    "\n",
    "width = 0.4\n",
    "thinkplot.PrePlot(2)\n",
    "thinkplot.Hist(high_hist, align='right', width=width, label='Highest Income')\n",
    "thinkplot.Hist(other_hist, align='left', width=width, label='Other Income')\n",
    "thinkplot.Show(xlabel='Year', ylabel='Frequency')\n",
    "\n",
    "print 'High Income', hi_mean\n",
    "print 'Low Income', oi_mean\n",
    "print 'Difference', diff\n",
    "print '     '\n",
    "\n",
    "print 'MENARCHE AGE AND SEXUAL PARTNERS'\n",
    "\n",
    "mv_hist, many_hist, few_hist, many_mean, few_mean, difference = compare(valid_menarche_ages, resp.lifeprt, 5)\n",
    "\n",
    "width = 0.4\n",
    "thinkplot.PrePlot(2)\n",
    "thinkplot.Hist(many_hist, align='right', width=width, label='Five or More Partners')\n",
    "thinkplot.Hist(few_hist, align='left', width=width, label='Fewer than Five Partners')\n",
    "thinkplot.Show(xlabel='Year', ylabel='Frequency')\n",
    "\n",
    "print 'Five or More', many_mean\n",
    "print 'Fewer than Five', few_mean\n",
    "print 'Difference', difference\n",
    "\n",
    "#this is interesting to look at because of the amount of conversation about the age of menarche and social factors\n",
    "#like overall income (and highest educational status), number of sexual encounters, etc. This data shows that there\n",
    "#might be something evident in the data, but confounding factors like age at time of the survey, would need to be\n",
    "#accounted for in order to make sense of the information\n"
   ]
  },
  {
   "cell_type": "markdown",
   "metadata": {
    "collapsed": false
   },
   "source": [
    "### Exercise 4\n",
    "\n",
    "Using the variable totalwgt_lb, investigate whether first babies are lighter or heavier than others. Compute Cohen’s d to quantify the difference between the groups. How does it compare to the difference in pregnancy length? "
   ]
  },
  {
   "cell_type": "code",
   "execution_count": 126,
   "metadata": {
    "collapsed": false
   },
   "outputs": [
    {
     "data": {
      "image/png": "[encoded data removed]",
      "text/plain": [
       "<matplotlib.figure.Figure at 0x7f404ff3b110>"
      ]
     },
     "metadata": {},
     "output_type": "display_data"
    },
    {
     "name": "stdout",
     "output_type": "stream",
     "text": [
      "Firsts 7.20109443044\n",
      "Others 7.32585561497\n",
      "Difference 0.124761184535\n",
      "Cohen's d -0.0886729270726\n"
     ]
    },
    {
     "data": {
      "text/plain": [
       "<matplotlib.figure.Figure at 0x7f404fb3e750>"
      ]
     },
     "metadata": {},
     "output_type": "display_data"
    }
   ],
   "source": [
    "import nsfg\n",
    "import numpy as np\n",
    "\n",
    "df = nsfg.ReadFemPreg()\n",
    "firsts_weight = []\n",
    "others_weight = []\n",
    "\n",
    "#make sure to get the live births only (may not be relevant to this problem, but seems like good idea)\n",
    "live = df[df.outcome ==1]\n",
    "\n",
    "#get the birthorders\n",
    "firsts = live[live.birthord == 1]\n",
    "others = live[live.birthord !=1]\n",
    "\n",
    "#round to the nearest pound for simplicity of viewing the data\n",
    "for element in firsts.totalwgt_lb:\n",
    "    firsts_weight.append(round(element))\n",
    "\n",
    "for element in others.totalwgt_lb:\n",
    "    others_weight.append(round(element))\n",
    "\n",
    "#view the data\n",
    "firsts_hist = thinkstats2.Hist(firsts_weight)\n",
    "others_hist = thinkstats2.Hist(others_weight)\n",
    "\n",
    "width = 0.4\n",
    "thinkplot.PrePlot(2)\n",
    "thinkplot.Hist(firsts_hist, align='right', width=width, label='Firsts')\n",
    "thinkplot.Hist(others_hist, align='left',width=width, label='Others')\n",
    "thinkplot.Show()\n",
    "\n",
    "#viewing the means \n",
    "f_mean = firsts.totalwgt_lb.mean()\n",
    "o_mean = others.totalwgt_lb.mean()\n",
    "diff = abs(f_mean-o_mean)\n",
    "\n",
    "print \"Firsts\", f_mean\n",
    "print \"Others\", o_mean\n",
    "print \"Difference\", diff\n",
    "\n",
    "#Now, for Cohen's d\n",
    "def Cohen_d(group1, group2):\n",
    "    diff = group1.mean() - group2.mean()\n",
    "    var1 = group1.var()\n",
    "    var2 = group2.var()\n",
    "    n1,n2 = len(group1), len(group2)\n",
    "    \n",
    "    pooled_var = (n1*var1 + n2 * var2)/(n1+n2)\n",
    "    d = diff / np.sqrt(pooled_var)\n",
    "    return d\n",
    "\n",
    "cohen_d = Cohen_d(firsts.totalwgt_lb, others.totalwgt_lb)\n",
    "print \"Cohen's d\", cohen_d \n",
    "#a little bit \"more\" than the difference in pregnancy length, \n",
    "#but still less than a single standard deviation between the means"
   ]
  }
 ],
 "metadata": {
  "kernelspec": {
   "display_name": "Python 2",
   "language": "python",
   "name": "python2"
  },
  "language_info": {
   "codemirror_mode": {
    "name": "ipython",
    "version": 2
   },
   "file_extension": ".py",
   "mimetype": "text/x-python",
   "name": "python",
   "nbconvert_exporter": "python",
   "pygments_lexer": "ipython2",
   "version": "2.7.11"
  }
 },
 "nbformat": 4,
 "nbformat_minor": 0
}
