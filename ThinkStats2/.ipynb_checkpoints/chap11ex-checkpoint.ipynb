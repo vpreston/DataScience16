{
 "cells": [
  {
   "cell_type": "markdown",
   "metadata": {},
   "source": [
    "Exercise from Think Stats, 2nd Edition (thinkstats2.com)<br>\n",
    "Allen Downey"
   ]
  },
  {
   "cell_type": "code",
   "execution_count": 1,
   "metadata": {
    "collapsed": false
   },
   "outputs": [],
   "source": [
    "%matplotlib inline"
   ]
  },
  {
   "cell_type": "markdown",
   "metadata": {},
   "source": [
    "Suppose one of your co-workers is expecting a baby and you are participating in an office pool to predict the date of birth. Assuming that bets are placed during the 30th week of pregnancy, what variables could you use to make the best prediction? You should limit yourself to variables that are known before the birth, and likely to be available to the people in the pool. "
   ]
  },
  {
   "cell_type": "code",
   "execution_count": 24,
   "metadata": {
    "collapsed": false
   },
   "outputs": [],
   "source": [
    "#set up the necessary imports\n",
    "import nsfg\n",
    "import chap01soln\n",
    "import seaborn as sns\n",
    "import matplotlib.pyplot as plt\n",
    "import numpy as np\n",
    "import statsmodels.formula.api as smf\n",
    "\n",
    "df = nsfg.ReadFemPreg()\n",
    "resp = chap01soln.ReadFemResp()"
   ]
  },
  {
   "cell_type": "code",
   "execution_count": 76,
   "metadata": {
    "collapsed": false
   },
   "outputs": [],
   "source": [
    "#let's just focus on the respondent data with live births (since we'll assume the best)\n",
    "#also assume within a month and change before an \"average\" length pregnancy of 40 weeks is when the pool occurs\n",
    "#thus we know at last some length of the pregnancy. We also know the age of our pregnant friend.\n",
    "\n",
    "live = df[df.outcome == 1]\n",
    "live = live[live.prglngth > 30]\n",
    "\n",
    "resp.index = resp.caseid\n",
    "join = live.join(resp, on='caseid', rsuffix='_r')"
   ]
  },
  {
   "cell_type": "code",
   "execution_count": 83,
   "metadata": {
    "collapsed": false
   },
   "outputs": [],
   "source": [
    "#we want to test on a variety of factors to determine what relationships might exist\n",
    "test_table = []\n",
    "for name in join.columns:\n",
    "    try:\n",
    "        if join[name].var() < 1e-7: #make sure that there is a little but of variance\n",
    "            continue\n",
    "            \n",
    "        formula = 'prglngth ~ agecon + ' + str(name) #predicting prglngth as a function of age, other parameter\n",
    "        model = smf.ols(formula, data=join)\n",
    "        if model.nobs < len(join)/2:\n",
    "            continue\n",
    "        results = model.fit()\n",
    "    except (ValueError, TypeError):\n",
    "        continue\n",
    "    test_table.append((results.rsquared, name))"
   ]
  },
  {
   "cell_type": "code",
   "execution_count": 84,
   "metadata": {
    "collapsed": false
   },
   "outputs": [
    {
     "name": "stdout",
     "output_type": "stream",
     "text": [
      "(u'prglngth', 1.0)\n",
      "(u'wksgest', 0.80647560229554416)\n",
      "(u'agepreg', 0.77722780709056005)\n",
      "('totalwgt_lb', 0.12589504948051811)\n",
      "(u'birthwgt_lb', 0.12104803951300569)\n",
      "(u'lbw1', 0.10399010733882053)\n",
      "(u'mosgest', 0.095653948252776844)\n",
      "(u'prglngth_i', 0.022702898461402943)\n",
      "(u'canhaver', 0.0060528525930908517)\n",
      "(u'datcon01_i', 0.006021881275759422)\n",
      "(u'con1mar1_i', 0.0057470796692380421)\n",
      "(u'nbrnaliv', 0.0046402822824620493)\n",
      "(u'mar1con1_i', 0.0032946548980058443)\n",
      "(u'anynurse', 0.0032494403967081587)\n",
      "(u'bfeedwks', 0.0027926146173661293)\n",
      "(u'agebaby1', 0.0027862747948664834)\n",
      "(u'rmarout11_i', 0.0023613798588607571)\n",
      "(u'marout11_i', 0.0023613798588607571)\n",
      "(u'marcon11_i', 0.0023613798588607571)\n",
      "(u'paydu', 0.0023452835507742353)\n",
      "(u'pregend1', 0.0022912806602890523)\n",
      "(u'datend02_i', 0.0021324893643125398)\n",
      "(u'datcon02_i', 0.0021324893643125398)\n",
      "(u'cmlastlb_r', 0.0021148239919197565)\n",
      "(u'cmlastlb', 0.0021148239919197565)\n",
      "(u'agecon02_i', 0.0021129060195237415)\n",
      "(u'ageprg02_i', 0.0020748312204004193)\n",
      "(u'fmarcon5_i', 0.0020360291831965638)\n",
      "(u'wantbold', 0.001926920019503453)\n",
      "(u'marcon03_i', 0.0019223219518741397)\n"
     ]
    }
   ],
   "source": [
    "test_table.sort(reverse=True) #sort by highest value\n",
    "for mse, name in test_table[:30]:\n",
    "    print(name, mse) #print the top ten"
   ]
  },
  {
   "cell_type": "markdown",
   "metadata": {},
   "source": [
    "Based on this information, I believe that the more useful parameters (which would be either known or guessable by the folks participating in the pool) would/may be: canhavr (perhaps if she is very close within people in the office), con1mar1 (the months between conception and marriage), mar1con1 (months between marriage and conception), agebaby1 (age at first birth, assuming more than one child), nbrnaliv (multiple births, if known), and paydu (current living quarters). I will say that none of these, without further investigation, would make a compelling case on their own, but together their might be something that can be predicted better than random guessing."
   ]
  },
  {
   "cell_type": "markdown",
   "metadata": {},
   "source": [
    "## Clarifying Questions\n",
    "\n",
    "Use this space to ask questions regarding the content covered in the reading. These questions should be restricted to helping you better understand the material. For questions that push beyond what is in the reading, use the next answer field. If you don't have a fully formed question, but are generally having a difficult time with a topic, you can indicate that here as well."
   ]
  },
  {
   "cell_type": "markdown",
   "metadata": {},
   "source": [
    "I just don't know if my intuition was really built well during this chapter for models like this, and wonder if we could walk through formula invocation could be reviewed in class further."
   ]
  },
  {
   "cell_type": "markdown",
   "metadata": {},
   "source": [
    "## Enrichment Questions\n",
    "\n",
    "Use this space to ask any questions that go beyond (but are related to) the material presented in this reading. Perhaps there is a particular topic you'd like to see covered in more depth. Perhaps you'd like to know how to use a library in a way that wasn't show in the reading. One way to think about this is what additional topics would you want covered in the next class (or addressed in a followup e-mail to the class). I'm a little fuzzy on what stuff will likely go here, so we'll see how things evolve."
   ]
  },
  {
   "cell_type": "markdown",
   "metadata": {},
   "source": []
  },
  {
   "cell_type": "markdown",
   "metadata": {},
   "source": [
    "## Additional Resources / Explorations\n",
    "\n",
    "If you found any useful resources, or tried some useful exercises that you'd like to report please do so here. Let us know what you did, what you learned, and how others can replicate it."
   ]
  },
  {
   "cell_type": "markdown",
   "metadata": {},
   "source": [
    "I found [this](http://www.cdc.gov/nchs/data/nsfg/NSFG_2006-2010_UG_App1a_FemRespFileIndex.pdf) a useful resource in addition to the codebook."
   ]
  },
  {
   "cell_type": "code",
   "execution_count": null,
   "metadata": {
    "collapsed": true
   },
   "outputs": [],
   "source": []
  }
 ],
 "metadata": {
  "kernelspec": {
   "display_name": "Python 2",
   "language": "python",
   "name": "python2"
  },
  "language_info": {
   "codemirror_mode": {
    "name": "ipython",
    "version": 2
   },
   "file_extension": ".py",
   "mimetype": "text/x-python",
   "name": "python",
   "nbconvert_exporter": "python",
   "pygments_lexer": "ipython2",
   "version": "2.7.11"
  }
 },
 "nbformat": 4,
 "nbformat_minor": 0
}
